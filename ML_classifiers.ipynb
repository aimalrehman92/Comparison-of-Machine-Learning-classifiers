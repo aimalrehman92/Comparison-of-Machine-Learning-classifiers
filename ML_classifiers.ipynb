{
 "cells": [
  {
   "cell_type": "markdown",
   "metadata": {},
   "source": [
    "# A study on the comparison of Machine Learning classifiers with Diabetes dataset"
   ]
  },
  {
   "cell_type": "markdown",
   "metadata": {},
   "source": [
    "In this notebook, we use different Machine Learning classification algorithms and compare their performance."
   ]
  },
  {
   "cell_type": "code",
   "execution_count": 35,
   "metadata": {},
   "outputs": [],
   "source": [
    "# import warnings filter\n",
    "from warnings import simplefilter\n",
    "# ignore all future warnings\n",
    "simplefilter(action='ignore', category=FutureWarning)"
   ]
  },
  {
   "cell_type": "code",
   "execution_count": 1,
   "metadata": {},
   "outputs": [],
   "source": [
    "from pandas import read_csv\n",
    "from matplotlib import pyplot"
   ]
  },
  {
   "cell_type": "markdown",
   "metadata": {},
   "source": [
    "Next we import some Machine Learning algorithms from Sklearn library."
   ]
  },
  {
   "cell_type": "code",
   "execution_count": 3,
   "metadata": {},
   "outputs": [],
   "source": [
    "from sklearn.neighbors import KNeighborsClassifier #K-nearest neighbors\n",
    "from sklearn.linear_model import LogisticRegression #Logistic regression\n",
    "from sklearn.naive_bayes import GaussianNB #Naive Bayes Gaussian\n",
    "from sklearn.svm import SVC #Support Vector Machine\n",
    "from sklearn.tree import DecisionTreeClassifier #Decision Tree classifier"
   ]
  },
  {
   "cell_type": "code",
   "execution_count": 5,
   "metadata": {},
   "outputs": [],
   "source": [
    "from sklearn.model_selection import KFold\n",
    "from sklearn.model_selection import cross_val_score"
   ]
  },
  {
   "cell_type": "code",
   "execution_count": 32,
   "metadata": {},
   "outputs": [],
   "source": [
    "import numpy as np"
   ]
  },
  {
   "cell_type": "markdown",
   "metadata": {},
   "source": [
    "Let's import the dataset"
   ]
  },
  {
   "cell_type": "code",
   "execution_count": 8,
   "metadata": {},
   "outputs": [],
   "source": [
    "filename = 'pima-indians-diabetes.csv'\n",
    "dataframe = read_csv(filename)"
   ]
  },
  {
   "cell_type": "code",
   "execution_count": 9,
   "metadata": {},
   "outputs": [
    {
     "name": "stdout",
     "output_type": "stream",
     "text": [
      "      6  148  72  35    0  33.6  0.627  50  1\n",
      "0     1   85  66  29    0  26.6  0.351  31  0\n",
      "1     8  183  64   0    0  23.3  0.672  32  1\n",
      "2     1   89  66  23   94  28.1  0.167  21  0\n",
      "3     0  137  40  35  168  43.1  2.288  33  1\n",
      "4     5  116  74   0    0  25.6  0.201  30  0\n",
      "5     3   78  50  32   88  31.0  0.248  26  1\n",
      "6    10  115   0   0    0  35.3  0.134  29  0\n",
      "7     2  197  70  45  543  30.5  0.158  53  1\n",
      "8     8  125  96   0    0   0.0  0.232  54  1\n",
      "9     4  110  92   0    0  37.6  0.191  30  0\n",
      "10   10  168  74   0    0  38.0  0.537  34  1\n",
      "11   10  139  80   0    0  27.1  1.441  57  0\n",
      "12    1  189  60  23  846  30.1  0.398  59  1\n",
      "13    5  166  72  19  175  25.8  0.587  51  1\n",
      "14    7  100   0   0    0  30.0  0.484  32  1\n",
      "15    0  118  84  47  230  45.8  0.551  31  1\n",
      "16    7  107  74   0    0  29.6  0.254  31  1\n",
      "17    1  103  30  38   83  43.3  0.183  33  0\n",
      "18    1  115  70  30   96  34.6  0.529  32  1\n",
      "19    3  126  88  41  235  39.3  0.704  27  0\n",
      "20    8   99  84   0    0  35.4  0.388  50  0\n",
      "21    7  196  90   0    0  39.8  0.451  41  1\n",
      "22    9  119  80  35    0  29.0  0.263  29  1\n",
      "23   11  143  94  33  146  36.6  0.254  51  1\n",
      "24   10  125  70  26  115  31.1  0.205  41  1\n",
      "25    7  147  76   0    0  39.4  0.257  43  1\n",
      "26    1   97  66  15  140  23.2  0.487  22  0\n",
      "27   13  145  82  19  110  22.2  0.245  57  0\n",
      "28    5  117  92   0    0  34.1  0.337  38  0\n",
      "29    5  109  75  26    0  36.0  0.546  60  0\n",
      "..   ..  ...  ..  ..  ...   ...    ...  .. ..\n",
      "737   2   99  60  17  160  36.6  0.453  21  0\n",
      "738   1  102  74   0    0  39.5  0.293  42  1\n",
      "739  11  120  80  37  150  42.3  0.785  48  1\n",
      "740   3  102  44  20   94  30.8  0.400  26  0\n",
      "741   1  109  58  18  116  28.5  0.219  22  0\n",
      "742   9  140  94   0    0  32.7  0.734  45  1\n",
      "743  13  153  88  37  140  40.6  1.174  39  0\n",
      "744  12  100  84  33  105  30.0  0.488  46  0\n",
      "745   1  147  94  41    0  49.3  0.358  27  1\n",
      "746   1   81  74  41   57  46.3  1.096  32  0\n",
      "747   3  187  70  22  200  36.4  0.408  36  1\n",
      "748   6  162  62   0    0  24.3  0.178  50  1\n",
      "749   4  136  70   0    0  31.2  1.182  22  1\n",
      "750   1  121  78  39   74  39.0  0.261  28  0\n",
      "751   3  108  62  24    0  26.0  0.223  25  0\n",
      "752   0  181  88  44  510  43.3  0.222  26  1\n",
      "753   8  154  78  32    0  32.4  0.443  45  1\n",
      "754   1  128  88  39  110  36.5  1.057  37  1\n",
      "755   7  137  90  41    0  32.0  0.391  39  0\n",
      "756   0  123  72   0    0  36.3  0.258  52  1\n",
      "757   1  106  76   0    0  37.5  0.197  26  0\n",
      "758   6  190  92   0    0  35.5  0.278  66  1\n",
      "759   2   88  58  26   16  28.4  0.766  22  0\n",
      "760   9  170  74  31    0  44.0  0.403  43  1\n",
      "761   9   89  62   0    0  22.5  0.142  33  0\n",
      "762  10  101  76  48  180  32.9  0.171  63  0\n",
      "763   2  122  70  27    0  36.8  0.340  27  0\n",
      "764   5  121  72  23  112  26.2  0.245  30  0\n",
      "765   1  126  60   0    0  30.1  0.349  47  1\n",
      "766   1   93  70  31    0  30.4  0.315  23  0\n",
      "\n",
      "[767 rows x 9 columns]\n"
     ]
    }
   ],
   "source": [
    "print(dataframe)"
   ]
  },
  {
   "cell_type": "markdown",
   "metadata": {},
   "source": [
    "Oops! Let's give the columns the names"
   ]
  },
  {
   "cell_type": "code",
   "execution_count": 14,
   "metadata": {},
   "outputs": [],
   "source": [
    "names = ['preg', 'plas', 'pres', 'skin', 'test', 'mass', 'pedi', 'age', 'class']\n",
    "dataframe = read_csv(filename, names=names)"
   ]
  },
  {
   "cell_type": "code",
   "execution_count": 15,
   "metadata": {},
   "outputs": [
    {
     "name": "stdout",
     "output_type": "stream",
     "text": [
      "     preg  plas  pres  skin  test  mass   pedi  age  class\n",
      "0       6   148    72    35     0  33.6  0.627   50      1\n",
      "1       1    85    66    29     0  26.6  0.351   31      0\n",
      "2       8   183    64     0     0  23.3  0.672   32      1\n",
      "3       1    89    66    23    94  28.1  0.167   21      0\n",
      "4       0   137    40    35   168  43.1  2.288   33      1\n",
      "5       5   116    74     0     0  25.6  0.201   30      0\n",
      "6       3    78    50    32    88  31.0  0.248   26      1\n",
      "7      10   115     0     0     0  35.3  0.134   29      0\n",
      "8       2   197    70    45   543  30.5  0.158   53      1\n",
      "9       8   125    96     0     0   0.0  0.232   54      1\n",
      "10      4   110    92     0     0  37.6  0.191   30      0\n",
      "11     10   168    74     0     0  38.0  0.537   34      1\n",
      "12     10   139    80     0     0  27.1  1.441   57      0\n",
      "13      1   189    60    23   846  30.1  0.398   59      1\n",
      "14      5   166    72    19   175  25.8  0.587   51      1\n",
      "15      7   100     0     0     0  30.0  0.484   32      1\n",
      "16      0   118    84    47   230  45.8  0.551   31      1\n",
      "17      7   107    74     0     0  29.6  0.254   31      1\n",
      "18      1   103    30    38    83  43.3  0.183   33      0\n",
      "19      1   115    70    30    96  34.6  0.529   32      1\n",
      "20      3   126    88    41   235  39.3  0.704   27      0\n",
      "21      8    99    84     0     0  35.4  0.388   50      0\n",
      "22      7   196    90     0     0  39.8  0.451   41      1\n",
      "23      9   119    80    35     0  29.0  0.263   29      1\n",
      "24     11   143    94    33   146  36.6  0.254   51      1\n",
      "25     10   125    70    26   115  31.1  0.205   41      1\n",
      "26      7   147    76     0     0  39.4  0.257   43      1\n",
      "27      1    97    66    15   140  23.2  0.487   22      0\n",
      "28     13   145    82    19   110  22.2  0.245   57      0\n",
      "29      5   117    92     0     0  34.1  0.337   38      0\n",
      "..    ...   ...   ...   ...   ...   ...    ...  ...    ...\n",
      "738     2    99    60    17   160  36.6  0.453   21      0\n",
      "739     1   102    74     0     0  39.5  0.293   42      1\n",
      "740    11   120    80    37   150  42.3  0.785   48      1\n",
      "741     3   102    44    20    94  30.8  0.400   26      0\n",
      "742     1   109    58    18   116  28.5  0.219   22      0\n",
      "743     9   140    94     0     0  32.7  0.734   45      1\n",
      "744    13   153    88    37   140  40.6  1.174   39      0\n",
      "745    12   100    84    33   105  30.0  0.488   46      0\n",
      "746     1   147    94    41     0  49.3  0.358   27      1\n",
      "747     1    81    74    41    57  46.3  1.096   32      0\n",
      "748     3   187    70    22   200  36.4  0.408   36      1\n",
      "749     6   162    62     0     0  24.3  0.178   50      1\n",
      "750     4   136    70     0     0  31.2  1.182   22      1\n",
      "751     1   121    78    39    74  39.0  0.261   28      0\n",
      "752     3   108    62    24     0  26.0  0.223   25      0\n",
      "753     0   181    88    44   510  43.3  0.222   26      1\n",
      "754     8   154    78    32     0  32.4  0.443   45      1\n",
      "755     1   128    88    39   110  36.5  1.057   37      1\n",
      "756     7   137    90    41     0  32.0  0.391   39      0\n",
      "757     0   123    72     0     0  36.3  0.258   52      1\n",
      "758     1   106    76     0     0  37.5  0.197   26      0\n",
      "759     6   190    92     0     0  35.5  0.278   66      1\n",
      "760     2    88    58    26    16  28.4  0.766   22      0\n",
      "761     9   170    74    31     0  44.0  0.403   43      1\n",
      "762     9    89    62     0     0  22.5  0.142   33      0\n",
      "763    10   101    76    48   180  32.9  0.171   63      0\n",
      "764     2   122    70    27     0  36.8  0.340   27      0\n",
      "765     5   121    72    23   112  26.2  0.245   30      0\n",
      "766     1   126    60     0     0  30.1  0.349   47      1\n",
      "767     1    93    70    31     0  30.4  0.315   23      0\n",
      "\n",
      "[768 rows x 9 columns]\n"
     ]
    }
   ],
   "source": [
    "print(dataframe)"
   ]
  },
  {
   "cell_type": "markdown",
   "metadata": {},
   "source": [
    "Looks good now!"
   ]
  },
  {
   "cell_type": "code",
   "execution_count": 16,
   "metadata": {},
   "outputs": [],
   "source": [
    "array = dataframe.values\n",
    "X = array[:,0:8] # all the columns except for the last\n",
    "Y = array[:,8] #that will go here, this is label vector"
   ]
  },
  {
   "cell_type": "markdown",
   "metadata": {},
   "source": [
    "We call all the models for comparison and will run them on this dataset to achieve a common objective of classification of unseen instances. Let's see their accuracy!"
   ]
  },
  {
   "cell_type": "code",
   "execution_count": 17,
   "metadata": {},
   "outputs": [],
   "source": [
    "# prepare models\n",
    "models = []\n",
    "models.append(('Logistic Regression', LogisticRegression()))\n",
    "models.append(('K-Nearest Neighbor', KNeighborsClassifier()))\n",
    "models.append(('Decision Tree Classifier', DecisionTreeClassifier()))\n",
    "models.append(('Naive Bayes Gaussian', GaussianNB()))\n",
    "models.append(('Support Vector Machine', SVC()))"
   ]
  },
  {
   "cell_type": "code",
   "execution_count": 61,
   "metadata": {},
   "outputs": [],
   "source": [
    "# evaluate each model in turn\n",
    "results = []\n",
    "names = []\n",
    "scoring = 'accuracy'"
   ]
  },
  {
   "cell_type": "markdown",
   "metadata": {},
   "source": [
    "We will run a loop to use all the algorithms listed above and calculate their accuracy"
   ]
  },
  {
   "cell_type": "code",
   "execution_count": 62,
   "metadata": {},
   "outputs": [
    {
     "name": "stdout",
     "output_type": "stream",
     "text": [
      "Logistic Regression: 0.769515 , 0.048411\n",
      "K-Nearest Neighbor: 0.748035 , 0.059532\n",
      "Decision Tree Classifier: 0.727398 , 0.063954\n",
      "Naive Bayes Gaussian: 0.734343 , 0.060576\n",
      "Support Vector Machine: 0.717679 , 0.071324\n"
     ]
    }
   ],
   "source": [
    "for name, model in models:\n",
    "    kfold = KFold(n_splits=10, random_state=7) \n",
    "    result = cross_val_score(model, X, Y, cv=kfold, scoring=scoring)\n",
    "    results.append(result)\n",
    "    names.append(name)\n",
    "    results_nump = np.array(results)\n",
    "    msg = \"%s: %f , %f\" % (name, results_nump.mean(), results_nump.std()) #two statistics: mean and std.deviation\n",
    "    print(msg)"
   ]
  },
  {
   "cell_type": "markdown",
   "metadata": {},
   "source": [
    "Now, if you run the above cell multiple times, you will see the values changing. "
   ]
  },
  {
   "cell_type": "code",
   "execution_count": 63,
   "metadata": {},
   "outputs": [
    {
     "data": {
      "image/png": "[encoded data removed]",
      "text/plain": [
       "<Figure size 864x864 with 1 Axes>"
      ]
     },
     "metadata": {
      "needs_background": "light"
     },
     "output_type": "display_data"
    }
   ],
   "source": [
    "# boxplot algorithm comparison\n",
    "fig = pyplot.figure(figsize = (12,12))\n",
    "fig.suptitle('Machine Learning classification algorithm comparison')\n",
    "ax = fig.add_subplot(111)\n",
    "pyplot.boxplot(results)\n",
    "ax.set_xticklabels(names)\n",
    "pyplot.show()"
   ]
  },
  {
   "cell_type": "markdown",
   "metadata": {},
   "source": [
    "Logistic regression shows the highest accuracy compared to other classifiers."
   ]
  },
  {
   "cell_type": "markdown",
   "metadata": {},
   "source": [
    "I wonder what's up with SVM  !!!"
   ]
  },
  {
   "cell_type": "code",
   "execution_count": null,
   "metadata": {},
   "outputs": [],
   "source": []
  }
 ],
 "metadata": {
  "kernelspec": {
   "display_name": "Python 3",
   "language": "python",
   "name": "python3"
  },
  "language_info": {
   "codemirror_mode": {
    "name": "ipython",
    "version": 3
   },
   "file_extension": ".py",
   "mimetype": "text/x-python",
   "name": "python",
   "nbconvert_exporter": "python",
   "pygments_lexer": "ipython3",
   "version": "3.5.2"
  }
 },
 "nbformat": 4,
 "nbformat_minor": 2
}
